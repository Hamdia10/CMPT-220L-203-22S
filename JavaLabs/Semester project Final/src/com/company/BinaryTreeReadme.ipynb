{
 "cells": [
  {
   "cell_type": "markdown",
   "metadata": {},
   "source": [
    "# This Is A ReadMe File For The Binary Search Tree"
   ]
  },
  {
   "cell_type": "markdown",
   "metadata": {},
   "source": [
    ">- Creating a binary andf its elements\n",
    ">- Adding elements to the binary trees\n",
    ">- Removing elements from the binary tree\n",
    ">- Get the height of elements in  the binary tree\n",
    ">- Depth First Search (In order, post order , pre-order)\n",
    ">- Breath First Search \n",
    ">- Finding the minimum and maximum value in the binary tree\n",
    ">- In order, post order , pre-order\n",
    ">- Searching/checking for elements in the binary tree\n",
    "\n",
    "\n",
    "\n",
    "\n",
    "\n"
   ]
  },
  {
   "cell_type": "markdown",
   "metadata": {},
   "source": [
    "Adding elements to the tree\n",
    "---------------"
   ]
  },
  {
   "cell_type": "markdown",
   "metadata": {},
   "source": [
    "1. First a class called TreeNodes was created and then in it the  left node, right node and the int leaves was stored in it. \n",
    "\n",
    "2. Then  a function called createNewTreeNode was created and in it creates a 3 different variables under the new variables called new tree node this allows newTreeNode.left, newTreeNode.right, and  newTreeNode.leaves to be diretly saved in the object TreeNode. The newTreeNode.left and newTreeNode.right are currently null in this function because no data has been saved in them and the  newTreeNode.leaves variable stores the integer variable data because that is what is going to directly hold all the data in the nodes.\n",
    "\n",
    "3. Once this is completed the newTreeNode was returned  and the function/method was called in the BST class and the tree was created.\n"
   ]
  },
  {
   "cell_type": "markdown",
   "metadata": {},
   "source": [
    "Removing Elements From The Tree\n",
    "---------------"
   ]
  },
  {
   "cell_type": "markdown",
   "metadata": {},
   "source": [
    "1. First a function called remove was created.\n",
    "2. Within it lies a conditional code that checks if root == null is true or false. If true it returns null however if false then it does not return null/ the code does not run.\n",
    "3.It then continues to declare the variable node.left and assign it to the method remove(node.left)"
   ]
  },
  {
   "cell_type": "code",
   "execution_count": null,
   "metadata": {},
   "outputs": [],
   "source": []
  },
  {
   "cell_type": "markdown",
   "metadata": {},
   "source": []
  }
 ],
 "metadata": {
  "language_info": {
   "name": "python"
  },
  "orig_nbformat": 4
 },
 "nbformat": 4,
 "nbformat_minor": 2
}
