{
 "cells": [
  {
   "cell_type": "markdown",
   "metadata": {},
   "source": [
    "# This Is A ReadMe File For The Binary Search Tree"
   ]
  },
  {
   "cell_type": "markdown",
   "metadata": {},
   "source": [
    ">- Creating a binary andf its elements\n",
    ">- Adding elements to the binary trees\n",
    ">- Removing elements from the binary tree\n",
    ">- Get the height of elements in  the binary tree\n",
    ">- Depth First Search (In order, post order , pre-order)\n",
    ">- Breath First Search \n",
    ">- Finding the minimum and maximum value in the binary tree\n",
    ">- In order, post order , pre-order\n",
    ">- Searching/checking for elements in the binary tree\n",
    "\n",
    "\n",
    "\n",
    "\n",
    "\n"
   ]
  },
  {
   "cell_type": "markdown",
   "metadata": {},
   "source": [
    "Adding elements to the tree\n",
    "---------------"
   ]
  },
  {
   "cell_type": "markdown",
   "metadata": {},
   "source": [
    "1. First a class called TreeNodes was created and then in it the  left node, right node and the int leaves was stored in it. \n",
    "\n",
    "2. Then  a function called createNewTreeNode was created and in it creates a 3 different variables under the new variables called new tree node this allows newTreeNode.left, newTreeNode.right, and  newTreeNode.leaves to be diretly saved in the object TreeNode. The newTreeNode.left and newTreeNode.right are currently null in this function because no data has been saved in them and the  newTreeNode.leaves variable stores the integer variable data because that is what is going to directly hold all the data in the nodes.\n",
    "\n",
    "3. Once this is completed the newTreeNode was returned  and the function/method was called in the BST class and the tree was created.\n"
   ]
  },
  {
   "cell_type": "markdown",
   "metadata": {},
   "source": [
    "Finding The height of the tree\n",
    "---------------"
   ]
  },
  {
   "cell_type": "markdown",
   "metadata": {},
   "source": [
    ">- There is no need to enter a value within this method as it already find the height of the tree."
   ]
  },
  {
   "cell_type": "markdown",
   "metadata": {},
   "source": [
    "Pre-Order, Post-Order and In-Order Traversal & Depth First Search\n",
    "---------------"
   ]
  },
  {
   "cell_type": "markdown",
   "metadata": {},
   "source": [
    ">- There is also need to mannually enter a value within these methods as they already find the traverse the tree in their specified order. "
   ]
  },
  {
   "cell_type": "markdown",
   "metadata": {},
   "source": [
    "Breath First Search\n",
    "---------------"
   ]
  },
  {
   "cell_type": "markdown",
   "metadata": {},
   "source": [
    ">- There is also need to mannually enter a value within this methods as it already carries out the process of traversing/searching the tree in  their spercifired order."
   ]
  },
  {
   "cell_type": "markdown",
   "metadata": {},
   "source": [
    "Finding the minimum and maximum value in the binary tree\n",
    "---------------"
   ]
  },
  {
   "cell_type": "markdown",
   "metadata": {},
   "source": [
    ">- The minumum value can be manually altered my chaing the values store in the binery tree itself in the main class."
   ]
  },
  {
   "cell_type": "markdown",
   "metadata": {},
   "source": [
    "Searching/checking for elements in the binary tree\n",
    "---------------"
   ]
  },
  {
   "cell_type": "markdown",
   "metadata": {},
   "source": [
    ">-  This can be done by manually enering values that are present and not present in the binary tree into the method. Once this is intered and runed the value present in the binary tree should be return a \"true\" result and the value not present should return a \"false\" result."
   ]
  }
 ],
 "metadata": {
  "language_info": {
   "name": "python"
  },
  "orig_nbformat": 4
 },
 "nbformat": 4,
 "nbformat_minor": 2
}
